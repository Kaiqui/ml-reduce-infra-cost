{
 "cells": [
  {
   "cell_type": "code",
   "execution_count": 2,
   "id": "41775949-7283-4727-9e15-e6ef820d9617",
   "metadata": {
    "tags": []
   },
   "outputs": [],
   "source": [
    "import numpy as np\n",
    "import mlflow\n",
    "from sklearn.metrics import accuracy_score, precision_score, recall_score, f1_score\n",
    "from sklearn.neural_network import MLPClassifier\n",
    "\n",
    "\n",
    "class NeuralNetwork:\n",
    "    def __init__(self, hidden_layer_sizes=(100,), max_iter=200, random_state=42):\n",
    "        self.hidden_layer_sizes = hidden_layer_sizes\n",
    "        self.max_iter = max_iter\n",
    "        self.random_state = random_state\n",
    "        self.model = None\n",
    "        self.tracking = mlflow.set_tracking_uri(\"http://localhost:5000\")\n",
    "        self.experiment = mlflow.set_experiment(\"NeuralNetwork\")\n",
    "\n",
    "    def _build_model(self, input_shape, output_shape):\n",
    "        model = MLPClassifier(hidden_layer_sizes=self.hidden_layer_sizes, max_iter=self.max_iter, \n",
    "                              random_state=self.random_state)\n",
    "        return model\n",
    "\n",
    "    def fit(self, X_train, y_train, X_val, y_val):\n",
    "        with mlflow.start_run():\n",
    "\n",
    "            mlflow.log_param(\"hidden_layer_sizes\", self.hidden_layer_sizes)\n",
    "            mlflow.log_param(\"max_iter\", self.max_iter)\n",
    "            mlflow.log_param(\"random_state\", self.random_state)\n",
    "\n",
    "            input_shape = X_train.shape[1:]\n",
    "            output_shape = 1\n",
    "            self.model = self._build_model(input_shape, output_shape)\n",
    "\n",
    "            self.model.fit(X_train, y_train)\n",
    "\n",
    "            y_train_pred = self.model.predict(X_train)\n",
    "            train_accuracy = accuracy_score(y_train, y_train_pred)\n",
    "            train_precision = precision_score(y_train, y_train_pred)\n",
    "            train_recall = recall_score(y_train, y_train_pred)\n",
    "            train_f1 = f1_score(y_train, y_train_pred)\n",
    "\n",
    "            y_val_pred = self.model.predict(X_val)\n",
    "            val_accuracy = accuracy_score(y_val, y_val_pred)\n",
    "            val_precision = precision_score(y_val, y_val_pred)\n",
    "            val_recall = recall_score(y_val, y_val_pred)\n",
    "            val_f1 = f1_score(y_val, y_val_pred)\n",
    "\n",
    "            mlflow.log_metric(\"train_accuracy\", train_accuracy)\n",
    "            mlflow.log_metric(\"train_precision\", train_precision)\n",
    "            mlflow.log_metric(\"train_recall\", train_recall)\n",
    "            mlflow.log_metric(\"train_f1\", train_f1)\n",
    "            mlflow.log_metric(\"val_accuracy\", val_accuracy)\n",
    "            mlflow.log_metric(\"val_precision\", val_precision)\n",
    "            mlflow.log_metric(\"val_recall\", val_recall)\n",
    "            mlflow.log_metric(\"val_f1\", val_f1)\n",
    "\n",
    "            mlflow.sklearn.log_model(self.model, \"model\")\n",
    "\n",
    "    def predict(self, X_test):\n",
    "        y_pred = self.model.predict(X_test)\n",
    "        return y_pred.astype(int)\n"
   ]
  },
  {
   "cell_type": "code",
   "execution_count": 3,
   "id": "26a9a03b-e4c0-46af-92ae-6429bc6fb53e",
   "metadata": {
    "tags": []
   },
   "outputs": [],
   "source": [
    "import pandas as pd\n",
    "from sklearn.model_selection import train_test_split\n",
    "from sklearn.preprocessing import StandardScaler\n",
    "from sklearn.metrics import accuracy_score, precision_score, recall_score, f1_score\n",
    "\n",
    "df2 = pd.read_csv('dados.csv')\n",
    "X = df2.drop('downgrade', axis=1)\n",
    "y = df2['downgrade']\n",
    "\n",
    "X_train, X_test, y_train, y_test = train_test_split(X, y, test_size=0.2, random_state=42)"
   ]
  },
  {
   "cell_type": "code",
   "execution_count": 4,
   "id": "f7f126d3-56a3-4c37-964d-83307a5a5e8e",
   "metadata": {
    "tags": []
   },
   "outputs": [
    {
     "name": "stderr",
     "output_type": "stream",
     "text": [
      "/home/jsalnx01/.pyenv/versions/3.10.6/envs/mlops/lib/python3.10/site-packages/_distutils_hack/__init__.py:33: UserWarning: Setuptools is replacing distutils.\n",
      "  warnings.warn(\"Setuptools is replacing distutils.\")\n"
     ]
    },
    {
     "data": {
      "text/plain": [
       "array([1, 1, 1, ..., 1, 1, 1])"
      ]
     },
     "execution_count": 4,
     "metadata": {},
     "output_type": "execute_result"
    }
   ],
   "source": [
    "nn = NeuralNetwork()\n",
    "\n",
    "# treinando o modelo\n",
    "nn.fit(X_train, y_train, X_test, y_test)\n",
    "\n",
    "# fazendo as previsões no conjunto de teste\n",
    "y_pred = nn.predict(X_test)\n",
    "y_pred"
   ]
  },
  {
   "cell_type": "code",
   "execution_count": 5,
   "id": "010baf07-eb02-492a-bfe6-e9ad404b0c6f",
   "metadata": {
    "tags": []
   },
   "outputs": [
    {
     "data": {
      "text/plain": [
       "0.86"
      ]
     },
     "execution_count": 5,
     "metadata": {},
     "output_type": "execute_result"
    }
   ],
   "source": [
    "prop_down = np.mean(y_pred)\n",
    "prop_down.round(2)"
   ]
  },
  {
   "cell_type": "code",
   "execution_count": null,
   "id": "ac8bf2c5-7757-4bde-8ba8-a2a59e2a90a0",
   "metadata": {},
   "outputs": [],
   "source": []
  },
  {
   "cell_type": "code",
   "execution_count": null,
   "id": "9e38f3aa-d8ad-444c-b603-96f96f69f22b",
   "metadata": {},
   "outputs": [],
   "source": []
  },
  {
   "cell_type": "code",
   "execution_count": null,
   "id": "f9bf7eb8-06bf-4d58-aa76-e72bc8195278",
   "metadata": {},
   "outputs": [],
   "source": []
  },
  {
   "cell_type": "code",
   "execution_count": null,
   "id": "f08ced28-2e4d-4ac0-9378-c14f13053cd0",
   "metadata": {},
   "outputs": [],
   "source": []
  },
  {
   "cell_type": "code",
   "execution_count": null,
   "id": "3cbe3694-acff-435f-8ae6-d8a9328e74e6",
   "metadata": {},
   "outputs": [],
   "source": []
  }
 ],
 "metadata": {
  "kernelspec": {
   "display_name": "Python 3 (ipykernel)",
   "language": "python",
   "name": "python3"
  },
  "language_info": {
   "codemirror_mode": {
    "name": "ipython",
    "version": 3
   },
   "file_extension": ".py",
   "mimetype": "text/x-python",
   "name": "python",
   "nbconvert_exporter": "python",
   "pygments_lexer": "ipython3",
   "version": "3.10.6"
  }
 },
 "nbformat": 4,
 "nbformat_minor": 5
}
