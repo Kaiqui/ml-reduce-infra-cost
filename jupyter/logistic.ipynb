{
 "cells": [
  {
   "cell_type": "code",
   "execution_count": 56,
   "id": "c9412151-ea40-4921-8777-68444489d49c",
   "metadata": {
    "tags": []
   },
   "outputs": [],
   "source": [
    "from sklearn.linear_model import LogisticRegression\n",
    "from sklearn.metrics import accuracy_score, precision_score, recall_score, f1_score\n",
    "import mlflow\n",
    "\n",
    "class LogisticRegressionModel:\n",
    "    def __init__(self, C=1.0, penalty='l2'):\n",
    "        self.C = C\n",
    "        self.penalty = penalty\n",
    "        self.model = None\n",
    "        self.tracking = mlflow.set_tracking_uri(\"http://localhost:5000\")\n",
    "        self.experiment = mlflow.set_experiment(\"NeuralNetwork\")\n",
    "    \n",
    "    def _log_metrics(self, y_true, y_pred):\n",
    "        accuracy = accuracy_score(y_true, y_pred)\n",
    "        #precision = precision_score(y_true, y_pred, average='weighted')\n",
    "        #recall = recall_score(y_true, y_pred, average='weighted')\n",
    "        f1 = f1_score(y_true, y_pred, average='weighted')\n",
    "\n",
    "        mlflow.log_metrics({\n",
    "            'accuracy': accuracy,\n",
    "            #'precision': precision,\n",
    "            #'recall': recall,\n",
    "            'f1': f1\n",
    "        })\n",
    "        \n",
    "    def _log_params(self):\n",
    "        mlflow.log_params({\n",
    "            'C': self.C,\n",
    "            'penalty': self.penalty\n",
    "        })\n",
    "        \n",
    "    def train(self, X_train, y_train, X_val=None, y_val=None, max_iter=100):\n",
    "        with mlflow.start_run() as run:\n",
    "            self.model = LogisticRegression(C=self.C, penalty=self.penalty, max_iter=max_iter)\n",
    "            self.model.fit(X_train, y_train)\n",
    "            \n",
    "            y_pred_train = self.model.predict_proba(X_train)[:, 1]\n",
    "            #self._log_metrics(y_train, y_pred_train)\n",
    "            \n",
    "            if X_val is not None and y_val is not None:\n",
    "                y_pred_val = self.model.predict(X_val)\n",
    "                self._log_metrics(y_val, y_pred_val)\n",
    "                \n",
    "            self._log_params()\n",
    "            \n",
    "            mlflow.sklearn.log_model(self.model, 'model')\n",
    "            return y_pred_train\n",
    "            \n",
    "    def predict(self, X, threshold=0.5):\n",
    "        return (self.model.predict_proba(X)[:, 1] >= threshold).astype(int)\n"
   ]
  },
  {
   "cell_type": "code",
   "execution_count": 57,
   "id": "eaa7a11a-0ebb-49eb-90a0-afaf1a5a6caa",
   "metadata": {
    "tags": []
   },
   "outputs": [],
   "source": [
    "import pandas as pd\n",
    "from sklearn.model_selection import train_test_split\n",
    "\n",
    "# Load iris dataset\n",
    "data = pd.read_csv('dados.csv')\n",
    "X = data.drop('downgrade', axis=1)\n",
    "y = data['downgrade']\n",
    "\n",
    "# Split data into train and test sets\n",
    "X_train, X_test, y_train, y_test = train_test_split(X, y, test_size=0.2, random_state=42)"
   ]
  },
  {
   "cell_type": "code",
   "execution_count": 58,
   "id": "8f4ed4d3-da5e-426b-9916-210149c90e86",
   "metadata": {
    "tags": []
   },
   "outputs": [],
   "source": [
    "# Create instance of LogisticRegressionModel\n",
    "logistic_regression = LogisticRegressionModel()"
   ]
  },
  {
   "cell_type": "code",
   "execution_count": 59,
   "id": "d435ce96-9197-40a1-8f6c-0a816796a448",
   "metadata": {
    "tags": []
   },
   "outputs": [
    {
     "data": {
      "text/plain": [
       "array([0.9999935 , 0.9102037 , 0.99873085, ..., 0.99853545, 0.81491121,\n",
       "       0.73008308])"
      ]
     },
     "execution_count": 59,
     "metadata": {},
     "output_type": "execute_result"
    }
   ],
   "source": [
    "# Train model and log metrics and parameters\n",
    "logistic_regression.train(X_train, y_train)"
   ]
  },
  {
   "cell_type": "code",
   "execution_count": 60,
   "id": "f5079743-e1bb-4f52-a9ba-4e23f91b507f",
   "metadata": {
    "tags": []
   },
   "outputs": [
    {
     "data": {
      "text/plain": [
       "array([1, 1, 1, ..., 1, 1, 1])"
      ]
     },
     "execution_count": 60,
     "metadata": {},
     "output_type": "execute_result"
    }
   ],
   "source": [
    "logistic_regression.predict(X_train)"
   ]
  },
  {
   "cell_type": "code",
   "execution_count": 29,
   "id": "8f5937f9-e6fa-4b8c-ae05-c20db809adca",
   "metadata": {
    "tags": []
   },
   "outputs": [
    {
     "ename": "AttributeError",
     "evalue": "'NoneType' object has no attribute 'predict'",
     "output_type": "error",
     "traceback": [
      "\u001b[0;31m---------------------------------------------------------------------------\u001b[0m",
      "\u001b[0;31mAttributeError\u001b[0m                            Traceback (most recent call last)",
      "Cell \u001b[0;32mIn[29], line 2\u001b[0m\n\u001b[1;32m      1\u001b[0m \u001b[38;5;66;03m# Make predictions on test set\u001b[39;00m\n\u001b[0;32m----> 2\u001b[0m y_pred \u001b[38;5;241m=\u001b[39m \u001b[43mlogistic_regression\u001b[49m\u001b[38;5;241;43m.\u001b[39;49m\u001b[43mpredict\u001b[49m\u001b[43m(\u001b[49m\u001b[43mX_train\u001b[49m\u001b[43m)\u001b[49m\n",
      "Cell \u001b[0;32mIn[26], line 50\u001b[0m, in \u001b[0;36mLogisticRegressionModel.predict\u001b[0;34m(self, X)\u001b[0m\n\u001b[1;32m     49\u001b[0m \u001b[38;5;28;01mdef\u001b[39;00m \u001b[38;5;21mpredict\u001b[39m(\u001b[38;5;28mself\u001b[39m, X):\n\u001b[0;32m---> 50\u001b[0m     \u001b[38;5;28;01mreturn\u001b[39;00m \u001b[38;5;28;43mself\u001b[39;49m\u001b[38;5;241;43m.\u001b[39;49m\u001b[43mmodel\u001b[49m\u001b[38;5;241;43m.\u001b[39;49m\u001b[43mpredict\u001b[49m(X)\n",
      "\u001b[0;31mAttributeError\u001b[0m: 'NoneType' object has no attribute 'predict'"
     ]
    }
   ],
   "source": [
    "\n",
    "# Make predictions on test set\n",
    "y_pred = logistic_regression.predict(X_train)"
   ]
  },
  {
   "cell_type": "code",
   "execution_count": null,
   "id": "e2eaa4a8-e2d3-4816-933f-a5502e134b93",
   "metadata": {},
   "outputs": [],
   "source": []
  },
  {
   "cell_type": "code",
   "execution_count": null,
   "id": "1bc590bf-1d16-4ddb-b73f-81151b100d83",
   "metadata": {},
   "outputs": [],
   "source": []
  },
  {
   "cell_type": "code",
   "execution_count": null,
   "id": "b38ee4ca-f12f-4209-9410-84e8af966e62",
   "metadata": {},
   "outputs": [],
   "source": []
  },
  {
   "cell_type": "code",
   "execution_count": null,
   "id": "b520893a-2c28-4b32-a684-33b751d87332",
   "metadata": {},
   "outputs": [],
   "source": []
  },
  {
   "cell_type": "code",
   "execution_count": null,
   "id": "9bbbd49b-ecdd-4d27-a8c7-ff690d096109",
   "metadata": {},
   "outputs": [],
   "source": []
  },
  {
   "cell_type": "code",
   "execution_count": null,
   "id": "308e7c70-64a4-4547-8cdc-772754cfbe1e",
   "metadata": {},
   "outputs": [],
   "source": []
  },
  {
   "cell_type": "code",
   "execution_count": null,
   "id": "1bacc61d-79ea-4cc3-9ea1-a1e44da88c22",
   "metadata": {},
   "outputs": [],
   "source": [
    "\n"
   ]
  }
 ],
 "metadata": {
  "kernelspec": {
   "display_name": "Python 3 (ipykernel)",
   "language": "python",
   "name": "python3"
  },
  "language_info": {
   "codemirror_mode": {
    "name": "ipython",
    "version": 3
   },
   "file_extension": ".py",
   "mimetype": "text/x-python",
   "name": "python",
   "nbconvert_exporter": "python",
   "pygments_lexer": "ipython3",
   "version": "3.10.6"
  }
 },
 "nbformat": 4,
 "nbformat_minor": 5
}
