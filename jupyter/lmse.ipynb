{
 "cells": [
  {
   "cell_type": "code",
   "execution_count": 11,
   "id": "fc9a4dc4-ee20-4686-85a2-8a6f1aa3102a",
   "metadata": {
    "tags": []
   },
   "outputs": [],
   "source": [
    "import numpy as np\n",
    "import pandas as pd\n",
    "import tensorflow as tf\n",
    "from tensorflow.keras.models import Sequential\n",
    "from tensorflow.keras.layers import Dense, LSTM\n",
    "from sklearn.metrics import mean_absolute_error, mean_squared_error\n",
    "import mlflow\n",
    "\n",
    "class LSTMPredictor:\n",
    "    def __init__(self, n_steps=3, n_features=1, n_units=50, n_epochs=10, batch_size=32, loss='mse', optimizer='adam'):\n",
    "        self.n_steps = n_steps\n",
    "        self.n_features = n_features\n",
    "        self.n_units = n_units\n",
    "        self.n_epochs = n_epochs\n",
    "        self.batch_size = batch_size\n",
    "        self.loss = loss\n",
    "        self.optimizer = optimizer\n",
    "        self.model = None\n",
    "    \n",
    "    def _create_model(self):\n",
    "        model = Sequential()\n",
    "        model.add(LSTM(self.n_units, activation='relu', input_shape=(self.n_steps, self.n_features)))\n",
    "        model.add(Dense(1))\n",
    "        model.compile(optimizer=self.optimizer, loss=self.loss)\n",
    "        return model\n",
    "    \n",
    "    def train(self, X_train, y_train, X_val=None, y_val=None):\n",
    "        with mlflow.start_run() as run:\n",
    "            # Log parameters\n",
    "            mlflow.log_params({\n",
    "                \"n_steps\": self.n_steps,\n",
    "                \"n_features\": self.n_features,\n",
    "                \"n_units\": self.n_units,\n",
    "                \"n_epochs\": self.n_epochs,\n",
    "                \"batch_size\": self.batch_size,\n",
    "                \"loss\": self.loss,\n",
    "                \"optimizer\": self.optimizer\n",
    "            })\n",
    "\n",
    "            # Create model\n",
    "            self.model = self._create_model()\n",
    "\n",
    "            # Train model\n",
    "            history = self.model.fit(\n",
    "                X_train, y_train, \n",
    "                epochs=self.n_epochs, \n",
    "                batch_size=self.batch_size, \n",
    "                validation_data=(X_val, y_val) if X_val is not None else None,\n",
    "                verbose=0\n",
    "            )\n",
    "\n",
    "            # Log metrics\n",
    "            mlflow.log_metrics({\n",
    "                \"train_loss\": history.history['loss'][-1],\n",
    "                \"val_loss\": history.history['val_loss'][-1] if X_val is not None else None\n",
    "            })\n",
    "\n",
    "            # Save model\n",
    "            mlflow.keras.log_model(self.model, \"lstm_model\")\n",
    "\n",
    "    def predict(self, X_test):\n",
    "        y_pred = self.model.predict(X_test)\n",
    "        return y_pred.flatten()\n",
    "\n",
    "    def evaluate(self, X_test, y_test):\n",
    "        y_pred = self.predict(X_test)\n",
    "        mae = mean_absolute_error(y_test, y_pred)\n",
    "        mse = mean_squared_error(y_test, y_pred)\n",
    "        with mlflow.start_run() as run:\n",
    "            mlflow.log_metrics({\n",
    "                \"mae\": mae,\n",
    "                \"mse\": mse\n",
    "            })\n",
    "        return mae, mse\n"
   ]
  },
  {
   "cell_type": "code",
   "execution_count": 13,
   "id": "66fc2640-2609-4e0b-99a9-df0b62f511f6",
   "metadata": {
    "tags": []
   },
   "outputs": [],
   "source": [
    "from datetime import datetime\n",
    "import numpy as np\n",
    "import pandas as pd\n",
    "from sklearn.preprocessing import MinMaxScaler\n",
    "\n",
    "# leitura dos dados\n",
    "data = pd.read_csv('dados.csv')\n",
    "\n",
    "# normalização dos dados\n",
    "scaler = MinMaxScaler()\n",
    "scaled_data = scaler.fit_transform(data[['CPU Load (%)', 'Memory RAM Usage (%)', 'Disk Usage (%)']].values)\n",
    "\n",
    "# separação em treino e teste\n",
    "train_size = int(len(scaled_data) * 0.7)\n",
    "train_data = scaled_data[:train_size]\n",
    "test_data = scaled_data[train_size:]"
   ]
  },
  {
   "cell_type": "code",
   "execution_count": 14,
   "id": "07e05d3e-0983-4e0e-8242-306c5d662150",
   "metadata": {
    "tags": []
   },
   "outputs": [
    {
     "ename": "AttributeError",
     "evalue": "type object 'LSTMPredictor' has no attribute 'prepare_data'",
     "output_type": "error",
     "traceback": [
      "\u001b[0;31m---------------------------------------------------------------------------\u001b[0m",
      "\u001b[0;31mAttributeError\u001b[0m                            Traceback (most recent call last)",
      "Cell \u001b[0;32mIn[14], line 3\u001b[0m\n\u001b[1;32m      1\u001b[0m \u001b[38;5;66;03m# preparação dos dados para a rede LSTM\u001b[39;00m\n\u001b[1;32m      2\u001b[0m timesteps \u001b[38;5;241m=\u001b[39m \u001b[38;5;241m3\u001b[39m\n\u001b[0;32m----> 3\u001b[0m X_train, y_train \u001b[38;5;241m=\u001b[39m \u001b[43mLSTMPredictor\u001b[49m\u001b[38;5;241;43m.\u001b[39;49m\u001b[43mprepare_data\u001b[49m(train_data, timesteps)\n\u001b[1;32m      4\u001b[0m X_test, y_test \u001b[38;5;241m=\u001b[39m LSTMPredictor\u001b[38;5;241m.\u001b[39mprepare_data(test_data, timesteps)\n",
      "\u001b[0;31mAttributeError\u001b[0m: type object 'LSTMPredictor' has no attribute 'prepare_data'"
     ]
    }
   ],
   "source": [
    "# preparação dos dados para a rede LSTM\n",
    "timesteps = 3\n",
    "X_train, y_train = LSTMPredictor.prepare_data(train_data, timesteps)\n",
    "X_test, y_test = LSTMPredictor.prepare_data(test_data, timesteps)"
   ]
  },
  {
   "cell_type": "code",
   "execution_count": null,
   "id": "cef9c0ee-81a1-430a-a5e5-f00295f38a1e",
   "metadata": {
    "tags": []
   },
   "outputs": [],
   "source": [
    "# criação e treinamento do modelo LSTM\n",
    "lstm = LSTMPredictor(input_shape=(X_train.shape[1], X_train.shape[2]), units=64, learning_rate=0.001)\n",
    "lstm.set_tracking_uri(\"http://localhost:5000\")\n",
    "lstm.set_experiment(\"lstm-experiment\")\n",
    "lstm.train(X_train, y_train, epochs=50, batch_size=32)\n",
    "\n",
    "# avaliação do modelo\n",
    "y_pred = lstm.predict(X_test)\n",
    "mse, mae, r2 = lstm.evaluate(X_test, y_test)\n",
    "\n",
    "# log das métricas no MLflow\n",
    "now = datetime.now().strftime('%Y-%m-%d %H:%M:%S')\n",
    "with mlflow.start_run(run_name=f\"lstm-run-{now}\") as run:\n",
    "    # log dos hiperparâmetros\n",
    "    mlflow.log_param(\"input_shape\", lstm.input_shape)\n",
    "    mlflow.log_param(\"units\", lstm.units)\n",
    "    mlflow.log_param(\"learning_rate\", lstm.learning_rate)\n",
    "    mlflow.log_param(\"epochs\", 50)\n",
    "    mlflow.log_param(\"batch_size\", 32)\n",
    "    \n",
    "    # log das métricas de avaliação\n",
    "    mlflow.log_metric(\"mse\", mse)\n",
    "    mlflow.log_metric(\"mae\", mae)\n",
    "    mlflow.log_metric(\"r2\", r2)\n",
    "    \n",
    "    # registro do modelo no MLflow\n",
    "    mlflow.keras.log_model(lstm.model, \"lstm-model\")"
   ]
  },
  {
   "cell_type": "code",
   "execution_count": null,
   "id": "b2aba64b-ed5c-4826-8178-e7d5d1402e84",
   "metadata": {},
   "outputs": [],
   "source": []
  },
  {
   "cell_type": "code",
   "execution_count": null,
   "id": "3f75fb64-69ba-4335-8d9b-9f43dfe3cd91",
   "metadata": {},
   "outputs": [],
   "source": []
  },
  {
   "cell_type": "code",
   "execution_count": null,
   "id": "28cc99ac-5541-40f0-adf5-5aa7ee5466a3",
   "metadata": {},
   "outputs": [],
   "source": []
  },
  {
   "cell_type": "code",
   "execution_count": null,
   "id": "0e03f307-5a04-453d-86cd-163833b75815",
   "metadata": {},
   "outputs": [],
   "source": []
  }
 ],
 "metadata": {
  "kernelspec": {
   "display_name": "Python 3 (ipykernel)",
   "language": "python",
   "name": "python3"
  },
  "language_info": {
   "codemirror_mode": {
    "name": "ipython",
    "version": 3
   },
   "file_extension": ".py",
   "mimetype": "text/x-python",
   "name": "python",
   "nbconvert_exporter": "python",
   "pygments_lexer": "ipython3",
   "version": "3.10.6"
  }
 },
 "nbformat": 4,
 "nbformat_minor": 5
}
