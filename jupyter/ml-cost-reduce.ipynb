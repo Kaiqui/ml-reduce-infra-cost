{
 "cells": [
  {
   "cell_type": "code",
   "execution_count": 5,
   "id": "f641317d-c628-45f4-8d0f-cb751002ddeb",
   "metadata": {
    "tags": []
   },
   "outputs": [],
   "source": [
    "import numpy as np\n",
    "import pandas as pd\n",
    "\n",
    "num_servers = 100000\n",
    "cpu_load_range = (0.0, 100.0)\n",
    "cpu_cores_range = (1, 8)\n",
    "memory_ram_range = (0.0, 100.0)\n",
    "memory_swap_range = (0.0, 100.0)\n",
    "disk_usage_range = (0.0, 100.0)\n",
    "\n",
    "cpu_load = np.random.uniform(cpu_load_range[0], cpu_load_range[1], size=num_servers)\n",
    "cpu_cores = np.random.randint(cpu_cores_range[0], cpu_cores_range[1] + 1, size=num_servers)\n",
    "memory_ram = np.random.uniform(memory_ram_range[0], memory_ram_range[1], size=num_servers)\n",
    "memory_swap = np.random.uniform(memory_swap_range[0], memory_swap_range[1], size=num_servers)\n",
    "disk_usage = np.random.uniform(disk_usage_range[0], disk_usage_range[1], size=num_servers)\n",
    "\n",
    "df = pd.DataFrame({'CPU Load (%)': cpu_load.round(2),\n",
    "                   'CPU Cores': cpu_cores,\n",
    "                   'Memory RAM Usage (%)': memory_ram.round(2),\n",
    "                   'Memory Swap Usage (%)': memory_swap.round(2),\n",
    "                   'Disk Usage (%)': disk_usage.round(2)})\n",
    "\n",
    "df['Downgrade'] = ((df['CPU Load (%)'] > 70.0) | (df['Memory Swap Usage (%)'] > 50.0) | (df['CPU Cores'] > 16) | ((df['Memory RAM Usage (%)'] + df['Memory Swap Usage (%)']) > 70.0) | (df['Disk Usage (%)'] > 80.0))"
   ]
  },
  {
   "cell_type": "raw",
   "id": "974412c4-39d0-4f4d-85cc-63d67044ae45",
   "metadata": {},
   "source": [
    "from tensorflow.keras.models import Sequential\n",
    "from tensorflow.keras.layers import Dense\n",
    "from tensorflow.keras.optimizers import Adam\n",
    "from tensorflow.keras.metrics import Accuracy, Precision, Recall, AUC\n",
    "\n",
    "class NeuralNetwork:\n",
    "\n",
    "    def __init__(self):\n",
    "        self.model = None\n",
    "\n",
    "    def _build_model(self, n_features):\n",
    "        self.model = Sequential()\n",
    "        self.model.add(Dense(32, input_shape=(n_features,), activation='relu'))\n",
    "        self.model.add(Dense(16, activation='relu'))\n",
    "        self.model.add(Dense(1, activation='sigmoid'))\n",
    "\n",
    "        self.model.compile(optimizer=Adam(learning_rate=0.001),\n",
    "                           loss='binary_crossentropy',\n",
    "                           metrics=[Accuracy(), Precision(), Recall(), AUC()])\n",
    "\n",
    "    def train(self, X, y, epochs=100, batch_size=32):\n",
    "        n_features = X.shape[1]\n",
    "        self._build_model(n_features)\n",
    "        self.model.fit(X, y, epochs=epochs, batch_size=batch_size, verbose=0)\n",
    "\n",
    "    def predict(self, X):\n",
    "        y_pred = self.model.predict(X)\n",
    "        return (y_pred > 0.5).astype(int)\n",
    "\n",
    "    def evaluate(self, X, y):\n",
    "        loss, accuracy, precision, recall, auc = self.model.evaluate(X, y, verbose=0)\n",
    "        return {'loss': loss, 'accuracy': accuracy, 'precision': precision, 'recall': recall, 'auc': auc}\n"
   ]
  },
  {
   "cell_type": "code",
   "execution_count": 30,
   "id": "e0d1527b-0377-4d9d-9a62-6015cc653896",
   "metadata": {
    "tags": []
   },
   "outputs": [],
   "source": [
    "from sklearn.neural_network import MLPClassifier\n",
    "from sklearn.model_selection import train_test_split\n",
    "from sklearn.metrics import (\n",
    "    accuracy_score, \n",
    "    f1_score, \n",
    "    precision_score, \n",
    "    recall_score\n",
    ")\n",
    "import mlflow\n",
    "\n",
    "\n",
    "class NeuralNetwork:\n",
    "    def __init__(self, num_classes, hidden_layers=(256, 128), learning_rate=0.001):\n",
    "        self.num_classes = num_classes\n",
    "        self.hidden_layers = hidden_layers\n",
    "        self.learning_rate = learning_rate\n",
    "        self.model = self._build_model()\n",
    "        self.tracking = mlflow.set_tracking_uri(\"http://localhost:5000\")\n",
    "        self.experiment = mlflow.set_experiment(\"NeuralNetwork\")\n",
    "\n",
    "    def _build_model(self):\n",
    "        model = MLPClassifier(hidden_layer_sizes=self.hidden_layers,\n",
    "                              activation='relu', solver='adam',\n",
    "                              learning_rate_init=self.learning_rate, \n",
    "                              max_iter=200)\n",
    "        return model\n",
    "\n",
    "    def train(self, X_train, y_train, X_val, y_val):\n",
    "        with mlflow.start_run():\n",
    "            self.model.fit(X_train, y_train)\n",
    "            \n",
    "            y_pred = self.model.predict(X_val)\n",
    "            accuracy = accuracy_score(y_val, y_pred)\n",
    "            f1 = f1_score(y_val, y_pred)\n",
    "            precision = precision_score(y_val, y_pred)\n",
    "            recall = recall_score(y_val, y_pred)\n",
    "            \n",
    "            mlflow.log_metric(\"accuracy\", accuracy)\n",
    "            mlflow.log_metric(\"f1_score\", f1)\n",
    "            mlflow.log_metric(\"precision\", precision)\n",
    "            mlflow.log_metric(\"recall\", recall)\n",
    "            \n",
    "            mlflow.sklearn.log_model(self.model, \"model\")\n",
    "            \n",
    "            return accuracy, f1, precision, recall\n",
    "\n",
    "    def predict(self, X_new):\n",
    "        return self.model.predict(X_new)"
   ]
  },
  {
   "cell_type": "code",
   "execution_count": null,
   "id": "2afdc79a-8163-484a-813a-95111cad5baa",
   "metadata": {
    "tags": []
   },
   "outputs": [],
   "source": [
    "df['downgrade'].value_counts()"
   ]
  },
  {
   "cell_type": "code",
   "execution_count": 7,
   "id": "9caf1449-6052-4956-9f9e-10fa41a65b72",
   "metadata": {
    "tags": []
   },
   "outputs": [],
   "source": [
    "df['downgrade'] = df['Downgrade'].astype(int)"
   ]
  },
  {
   "cell_type": "code",
   "execution_count": 8,
   "id": "f933987e-1578-4c44-9d25-9579dc3adba5",
   "metadata": {
    "tags": []
   },
   "outputs": [
    {
     "data": {
      "text/html": [
       "<div>\n",
       "<style scoped>\n",
       "    .dataframe tbody tr th:only-of-type {\n",
       "        vertical-align: middle;\n",
       "    }\n",
       "\n",
       "    .dataframe tbody tr th {\n",
       "        vertical-align: top;\n",
       "    }\n",
       "\n",
       "    .dataframe thead th {\n",
       "        text-align: right;\n",
       "    }\n",
       "</style>\n",
       "<table border=\"1\" class=\"dataframe\">\n",
       "  <thead>\n",
       "    <tr style=\"text-align: right;\">\n",
       "      <th></th>\n",
       "      <th>CPU Load (%)</th>\n",
       "      <th>CPU Cores</th>\n",
       "      <th>Memory RAM Usage (%)</th>\n",
       "      <th>Memory Swap Usage (%)</th>\n",
       "      <th>Disk Usage (%)</th>\n",
       "      <th>Downgrade</th>\n",
       "      <th>downgrade</th>\n",
       "    </tr>\n",
       "  </thead>\n",
       "  <tbody>\n",
       "    <tr>\n",
       "      <th>0</th>\n",
       "      <td>86.81</td>\n",
       "      <td>2</td>\n",
       "      <td>86.34</td>\n",
       "      <td>79.05</td>\n",
       "      <td>54.58</td>\n",
       "      <td>True</td>\n",
       "      <td>1</td>\n",
       "    </tr>\n",
       "    <tr>\n",
       "      <th>1</th>\n",
       "      <td>82.48</td>\n",
       "      <td>4</td>\n",
       "      <td>99.86</td>\n",
       "      <td>31.85</td>\n",
       "      <td>84.87</td>\n",
       "      <td>True</td>\n",
       "      <td>1</td>\n",
       "    </tr>\n",
       "    <tr>\n",
       "      <th>2</th>\n",
       "      <td>70.12</td>\n",
       "      <td>4</td>\n",
       "      <td>94.80</td>\n",
       "      <td>11.67</td>\n",
       "      <td>93.15</td>\n",
       "      <td>True</td>\n",
       "      <td>1</td>\n",
       "    </tr>\n",
       "    <tr>\n",
       "      <th>3</th>\n",
       "      <td>19.17</td>\n",
       "      <td>4</td>\n",
       "      <td>20.22</td>\n",
       "      <td>55.62</td>\n",
       "      <td>14.25</td>\n",
       "      <td>True</td>\n",
       "      <td>1</td>\n",
       "    </tr>\n",
       "    <tr>\n",
       "      <th>4</th>\n",
       "      <td>41.22</td>\n",
       "      <td>3</td>\n",
       "      <td>88.39</td>\n",
       "      <td>3.89</td>\n",
       "      <td>82.50</td>\n",
       "      <td>True</td>\n",
       "      <td>1</td>\n",
       "    </tr>\n",
       "  </tbody>\n",
       "</table>\n",
       "</div>"
      ],
      "text/plain": [
       "   CPU Load (%)  CPU Cores  Memory RAM Usage (%)  Memory Swap Usage (%)   \n",
       "0         86.81          2                 86.34                  79.05  \\\n",
       "1         82.48          4                 99.86                  31.85   \n",
       "2         70.12          4                 94.80                  11.67   \n",
       "3         19.17          4                 20.22                  55.62   \n",
       "4         41.22          3                 88.39                   3.89   \n",
       "\n",
       "   Disk Usage (%)  Downgrade  downgrade  \n",
       "0           54.58       True          1  \n",
       "1           84.87       True          1  \n",
       "2           93.15       True          1  \n",
       "3           14.25       True          1  \n",
       "4           82.50       True          1  "
      ]
     },
     "execution_count": 8,
     "metadata": {},
     "output_type": "execute_result"
    }
   ],
   "source": [
    "df.head()"
   ]
  },
  {
   "cell_type": "code",
   "execution_count": 9,
   "id": "19c7ebf1-b602-46cf-b116-7c2101bf546f",
   "metadata": {
    "tags": []
   },
   "outputs": [],
   "source": [
    "X = df[['CPU Load (%)', 'CPU Cores', 'Memory RAM Usage (%)','Memory Swap Usage (%)','Disk Usage (%)']]\n",
    "y = df['downgrade']"
   ]
  },
  {
   "cell_type": "code",
   "execution_count": 32,
   "id": "46a68eb5-bb7e-4693-98f6-373f6f082733",
   "metadata": {
    "tags": []
   },
   "outputs": [],
   "source": [
    "X_train, X_test, y_train, y_test = train_test_split(X, y, test_size=0.2, random_state=42)"
   ]
  },
  {
   "cell_type": "code",
   "execution_count": 33,
   "id": "3674d766-a7de-457b-8208-ebdcf893b978",
   "metadata": {
    "tags": []
   },
   "outputs": [],
   "source": [
    "nn = NeuralNetwork(num_classes=6)"
   ]
  },
  {
   "cell_type": "code",
   "execution_count": 34,
   "id": "b8a8e0b2-d5a9-4400-b794-6ae7ee6679b5",
   "metadata": {
    "tags": []
   },
   "outputs": [],
   "source": [
    "accuracy, f1, precision, recall = nn.train(X_train, y_train, X_test, y_test)"
   ]
  },
  {
   "cell_type": "code",
   "execution_count": 35,
   "id": "6bd47cc2-1de4-47b0-8542-5710959484d5",
   "metadata": {
    "tags": []
   },
   "outputs": [
    {
     "name": "stdout",
     "output_type": "stream",
     "text": [
      "Accuracy: 0.9914, F1-score: 0.995061444814517, Precision: 0.9994808790448174, Recall: 0.9906809216168315\n"
     ]
    }
   ],
   "source": [
    "print(f\"Accuracy: {accuracy}, F1-score: {f1}, Precision: {precision}, Recall: {recall}\")"
   ]
  },
  {
   "cell_type": "code",
   "execution_count": 36,
   "id": "2f848fea-f8ad-49bb-92cf-423c019a7788",
   "metadata": {
    "tags": []
   },
   "outputs": [
    {
     "name": "stdout",
     "output_type": "stream",
     "text": [
      "Predictions: [0 1 1 ... 1 1 1]\n"
     ]
    }
   ],
   "source": [
    "y_pred = nn.predict(X_test)\n",
    "print(f\"Predictions: {y_pred}\")"
   ]
  },
  {
   "cell_type": "code",
   "execution_count": 59,
   "id": "ebe2ddf7-7601-4c95-8906-18904812b2bb",
   "metadata": {},
   "outputs": [],
   "source": [
    "import numpy as np\n",
    "import mlflow\n",
    "from sklearn.metrics import accuracy_score, precision_score, recall_score, f1_score\n",
    "from sklearn.neural_network import MLPClassifier\n",
    "\n",
    "\n",
    "class NeuralNetwork:\n",
    "    def __init__(self, hidden_layer_sizes=(100,), max_iter=200, random_state=42):\n",
    "        self.hidden_layer_sizes = hidden_layer_sizes\n",
    "        self.max_iter = max_iter\n",
    "        self.random_state = random_state\n",
    "        self.model = None\n",
    "        self.tracking = mlflow.set_tracking_uri(\"http://localhost:5000\")\n",
    "        self.experiment = mlflow.set_experiment(\"NeuralNetwork\")\n",
    "\n",
    "    def _build_model(self, input_shape, output_shape):\n",
    "        model = MLPClassifier(hidden_layer_sizes=self.hidden_layer_sizes, max_iter=self.max_iter, \n",
    "                              random_state=self.random_state)\n",
    "        return model\n",
    "\n",
    "    def fit(self, X_train, y_train, X_val, y_val):\n",
    "        with mlflow.start_run():\n",
    "\n",
    "            # registra os hiperparâmetros\n",
    "            mlflow.log_param(\"hidden_layer_sizes\", self.hidden_layer_sizes)\n",
    "            mlflow.log_param(\"max_iter\", self.max_iter)\n",
    "            mlflow.log_param(\"random_state\", self.random_state)\n",
    "\n",
    "            # constrói o modelo\n",
    "            input_shape = X_train.shape[1:]\n",
    "            output_shape = 1\n",
    "            self.model = self._build_model(input_shape, output_shape)\n",
    "\n",
    "            # treina o modelo\n",
    "            self.model.fit(X_train, y_train)\n",
    "\n",
    "            # avalia o modelo no conjunto de treinamento\n",
    "            y_train_pred = self.model.predict(X_train)\n",
    "            train_accuracy = accuracy_score(y_train, y_train_pred)\n",
    "            train_precision = precision_score(y_train, y_train_pred)\n",
    "            train_recall = recall_score(y_train, y_train_pred)\n",
    "            train_f1 = f1_score(y_train, y_train_pred)\n",
    "\n",
    "            # avalia o modelo no conjunto de validação\n",
    "            y_val_pred = self.model.predict(X_val)\n",
    "            val_accuracy = accuracy_score(y_val, y_val_pred)\n",
    "            val_precision = precision_score(y_val, y_val_pred)\n",
    "            val_recall = recall_score(y_val, y_val_pred)\n",
    "            val_f1 = f1_score(y_val, y_val_pred)\n",
    "\n",
    "            # registra as métricas de avaliação\n",
    "            mlflow.log_metric(\"train_accuracy\", train_accuracy)\n",
    "            mlflow.log_metric(\"train_precision\", train_precision)\n",
    "            mlflow.log_metric(\"train_recall\", train_recall)\n",
    "            mlflow.log_metric(\"train_f1\", train_f1)\n",
    "            mlflow.log_metric(\"val_accuracy\", val_accuracy)\n",
    "            mlflow.log_metric(\"val_precision\", val_precision)\n",
    "            mlflow.log_metric(\"val_recall\", val_recall)\n",
    "            mlflow.log_metric(\"val_f1\", val_f1)\n",
    "\n",
    "            # salva o modelo no MLflow\n",
    "            mlflow.sklearn.log_model(self.model, \"model\")\n",
    "\n",
    "    def predict(self, X_test):\n",
    "        y_pred = self.model.predict(X_test)\n",
    "        return y_pred.astype(int)\n"
   ]
  },
  {
   "cell_type": "code",
   "execution_count": 24,
   "id": "315b5032-e0fd-43ba-97c2-bf243d32e759",
   "metadata": {
    "tags": []
   },
   "outputs": [
    {
     "data": {
      "text/html": [
       "<div>\n",
       "<style scoped>\n",
       "    .dataframe tbody tr th:only-of-type {\n",
       "        vertical-align: middle;\n",
       "    }\n",
       "\n",
       "    .dataframe tbody tr th {\n",
       "        vertical-align: top;\n",
       "    }\n",
       "\n",
       "    .dataframe thead th {\n",
       "        text-align: right;\n",
       "    }\n",
       "</style>\n",
       "<table border=\"1\" class=\"dataframe\">\n",
       "  <thead>\n",
       "    <tr style=\"text-align: right;\">\n",
       "      <th></th>\n",
       "      <th>CPU Load (%)</th>\n",
       "      <th>CPU Cores</th>\n",
       "      <th>Memory RAM Usage (%)</th>\n",
       "      <th>Memory Swap Usage (%)</th>\n",
       "      <th>Disk Usage (%)</th>\n",
       "      <th>downgrade</th>\n",
       "    </tr>\n",
       "  </thead>\n",
       "  <tbody>\n",
       "    <tr>\n",
       "      <th>0</th>\n",
       "      <td>86.81</td>\n",
       "      <td>2</td>\n",
       "      <td>86.34</td>\n",
       "      <td>79.05</td>\n",
       "      <td>54.58</td>\n",
       "      <td>1</td>\n",
       "    </tr>\n",
       "    <tr>\n",
       "      <th>1</th>\n",
       "      <td>82.48</td>\n",
       "      <td>4</td>\n",
       "      <td>99.86</td>\n",
       "      <td>31.85</td>\n",
       "      <td>84.87</td>\n",
       "      <td>1</td>\n",
       "    </tr>\n",
       "    <tr>\n",
       "      <th>2</th>\n",
       "      <td>70.12</td>\n",
       "      <td>4</td>\n",
       "      <td>94.80</td>\n",
       "      <td>11.67</td>\n",
       "      <td>93.15</td>\n",
       "      <td>1</td>\n",
       "    </tr>\n",
       "    <tr>\n",
       "      <th>3</th>\n",
       "      <td>19.17</td>\n",
       "      <td>4</td>\n",
       "      <td>20.22</td>\n",
       "      <td>55.62</td>\n",
       "      <td>14.25</td>\n",
       "      <td>1</td>\n",
       "    </tr>\n",
       "    <tr>\n",
       "      <th>4</th>\n",
       "      <td>41.22</td>\n",
       "      <td>3</td>\n",
       "      <td>88.39</td>\n",
       "      <td>3.89</td>\n",
       "      <td>82.50</td>\n",
       "      <td>1</td>\n",
       "    </tr>\n",
       "  </tbody>\n",
       "</table>\n",
       "</div>"
      ],
      "text/plain": [
       "   CPU Load (%)  CPU Cores  Memory RAM Usage (%)  Memory Swap Usage (%)   \n",
       "0         86.81          2                 86.34                  79.05  \\\n",
       "1         82.48          4                 99.86                  31.85   \n",
       "2         70.12          4                 94.80                  11.67   \n",
       "3         19.17          4                 20.22                  55.62   \n",
       "4         41.22          3                 88.39                   3.89   \n",
       "\n",
       "   Disk Usage (%)  downgrade  \n",
       "0           54.58          1  \n",
       "1           84.87          1  \n",
       "2           93.15          1  \n",
       "3           14.25          1  \n",
       "4           82.50          1  "
      ]
     },
     "execution_count": 24,
     "metadata": {},
     "output_type": "execute_result"
    }
   ],
   "source": [
    "df2 = df.drop(\"Downgrade\", axis=1)\n",
    "df2.head()"
   ]
  },
  {
   "cell_type": "code",
   "execution_count": 60,
   "id": "de342e9d-80dc-41ac-a935-0b95860513b7",
   "metadata": {},
   "outputs": [
    {
     "data": {
      "text/plain": [
       "array([0, 1, 1, ..., 1, 1, 1])"
      ]
     },
     "execution_count": 60,
     "metadata": {},
     "output_type": "execute_result"
    }
   ],
   "source": [
    "import pandas as pd\n",
    "from sklearn.model_selection import train_test_split\n",
    "from sklearn.preprocessing import StandardScaler\n",
    "from sklearn.metrics import accuracy_score, precision_score, recall_score, f1_score\n",
    "\n",
    "# separando as features e o target\n",
    "X = df2.drop('downgrade', axis=1)\n",
    "y = df2['downgrade']\n",
    "\n",
    "# dividindo em conjunto de treinamento e teste\n",
    "X_train, X_test, y_train, y_test = train_test_split(X, y, test_size=0.2, random_state=42)\n",
    "\n",
    "# normalizando os dados\n",
    "# scaler = StandardScaler()\n",
    "# X_train_scaled = scaler.fit_transform(X_train)\n",
    "# X_test_scaled = scaler.transform(X_test)\n",
    "\n",
    "# criando o modelo de redes neurais\n",
    "nn = NeuralNetwork()\n",
    "\n",
    "# treinando o modelo\n",
    "nn.fit(X_train, y_train, X_test, y_test)\n",
    "\n",
    "# fazendo as previsões no conjunto de teste\n",
    "y_pred = nn.predict(X_test)\n",
    "y_pred\n",
    "# avaliando o modelo\n",
    "# accuracy = accuracy_score(y_test, y_pred)\n",
    "# precision = precision_score(y_test, y_pred)\n",
    "# recall = recall_score(y_test, y_pred)\n",
    "# f1 = f1_score(y_test, y_pred)\n",
    "\n",
    "# print('Accuracy: {:.2f}'.format(accuracy))\n",
    "# print('Precision: {:.2f}'.format(precision))\n",
    "# print('Recall: {:.2f}'.format(recall))\n",
    "# print('F1-score: {:.2f}'.format(f1))\n"
   ]
  },
  {
   "cell_type": "code",
   "execution_count": 62,
   "id": "9e041479-01de-49d2-924a-e5a7813e367f",
   "metadata": {},
   "outputs": [
    {
     "name": "stdout",
     "output_type": "stream",
     "text": [
      "[1 0]\n"
     ]
    },
    {
     "name": "stderr",
     "output_type": "stream",
     "text": [
      "/home/kaique/.pyenv/versions/3.10.7/envs/mlops/lib/python3.10/site-packages/sklearn/base.py:439: UserWarning: X does not have valid feature names, but MLPClassifier was fitted with feature names\n",
      "  warnings.warn(\n"
     ]
    }
   ],
   "source": [
    "X_new = [[80, 1, 60, 10, 50], [30, 2, 30, 5, 20]] # exemplo de novos dados\n",
    "y_pred = nn.predict(X_new)\n",
    "print(y_pred)"
   ]
  },
  {
   "cell_type": "code",
   "execution_count": 10,
   "id": "7cb47387-54cb-467a-8477-369fa2b215ae",
   "metadata": {
    "tags": []
   },
   "outputs": [
    {
     "name": "stderr",
     "output_type": "stream",
     "text": [
      "2023-05-01 09:55:14.127243: I tensorflow/core/util/port.cc:110] oneDNN custom operations are on. You may see slightly different numerical results due to floating-point round-off errors from different computation orders. To turn them off, set the environment variable `TF_ENABLE_ONEDNN_OPTS=0`.\n",
      "2023-05-01 09:55:14.133328: I tensorflow/tsl/cuda/cudart_stub.cc:28] Could not find cuda drivers on your machine, GPU will not be used.\n",
      "2023-05-01 09:55:14.172187: I tensorflow/tsl/cuda/cudart_stub.cc:28] Could not find cuda drivers on your machine, GPU will not be used.\n",
      "2023-05-01 09:55:14.173140: I tensorflow/core/platform/cpu_feature_guard.cc:182] This TensorFlow binary is optimized to use available CPU instructions in performance-critical operations.\n",
      "To enable the following instructions: AVX2 AVX512F AVX512_VNNI FMA, in other operations, rebuild TensorFlow with the appropriate compiler flags.\n",
      "2023-05-01 09:55:14.954450: W tensorflow/compiler/tf2tensorrt/utils/py_utils.cc:38] TF-TRT Warning: Could not find TensorRT\n"
     ]
    }
   ],
   "source": [
    "import mlflow\n",
    "import mlflow.keras\n",
    "import numpy as np\n",
    "from sklearn.metrics import accuracy_score, precision_score, recall_score, f1_score\n",
    "from tensorflow.keras.layers import Dense, Dropout\n",
    "from tensorflow.keras.models import Sequential\n",
    "from tensorflow.keras.optimizers import Adam\n",
    "\n",
    "class NeuralNetwork:\n",
    "    def __init__(self, input_shape, learning_rate=0.001, threshold=0.5):\n",
    "        self.input_shape = input_shape\n",
    "        self.learning_rate = learning_rate\n",
    "        self.threshold = threshold\n",
    "        self.model = self._build_model()\n",
    "\n",
    "    def _build_model(self):\n",
    "        model = Sequential()\n",
    "        model.add(Dense(16, input_shape=self.input_shape, activation='relu'))\n",
    "        model.add(Dropout(0.2))\n",
    "        model.add(Dense(8, activation='relu'))\n",
    "        model.add(Dropout(0.2))\n",
    "        model.add(Dense(1, activation='sigmoid'))\n",
    "        optimizer = Adam(learning_rate=self.learning_rate)\n",
    "        model.compile(loss='binary_crossentropy', optimizer=optimizer, metrics=['accuracy'])\n",
    "        return model\n",
    "\n",
    "    def train(self, x_train, y_train, epochs=10, batch_size=32, validation_data=None):\n",
    "        with mlflow.start_run():\n",
    "            mlflow.log_params({\n",
    "                \"input_shape\": self.input_shape,\n",
    "                \"learning_rate\": self.learning_rate,\n",
    "                \"threshold\": self.threshold,\n",
    "                \"epochs\": epochs,\n",
    "                \"batch_size\": batch_size,\n",
    "            })\n",
    "            history = self.model.fit(x_train, y_train, epochs=epochs, batch_size=batch_size,\n",
    "                                     validation_data=validation_data)\n",
    "            mlflow.keras.log_model(self.model, \"model\")\n",
    "            y_pred = self.predict(x_train)\n",
    "            self.log_metrics(y_train, y_pred, prefix=\"train\")\n",
    "            if validation_data is not None:\n",
    "                x_val, y_val = validation_data\n",
    "                y_val_pred = self.predict(x_val)\n",
    "                self.log_metrics(y_val, y_val_pred, prefix=\"val\")\n",
    "            return history\n",
    "\n",
    "    def predict(self, x):\n",
    "        y_pred = self.model.predict(x)\n",
    "        y_pred_class = np.where(y_pred > self.threshold, 1, 0)\n",
    "        return y_pred_class\n",
    "\n",
    "    def log_metrics(self, y_true, y_pred, prefix=\"\"):\n",
    "        metrics = {\n",
    "            f\"{prefix}_accuracy\": accuracy_score(y_true, y_pred),\n",
    "            f\"{prefix}_precision\": precision_score(y_true, y_pred),\n",
    "            f\"{prefix}_recall\": recall_score(y_true, y_pred),\n",
    "            f\"{prefix}_f1\": f1_score(y_true, y_pred),\n",
    "        }\n",
    "        mlflow.log_metrics(metrics)\n"
   ]
  },
  {
   "cell_type": "code",
   "execution_count": 40,
   "id": "789111e1-068d-43ca-b9e4-c5bb576c0258",
   "metadata": {
    "tags": []
   },
   "outputs": [],
   "source": [
    "df2.to_csv('dados.csv', index=False)"
   ]
  },
  {
   "cell_type": "code",
   "execution_count": 30,
   "id": "a4c65c93-42e4-4687-887f-00440bf546ca",
   "metadata": {
    "tags": []
   },
   "outputs": [],
   "source": [
    "import numpy as np\n",
    "from sklearn.model_selection import train_test_split\n",
    "from sklearn.preprocessing import MinMaxScaler\n",
    "\n",
    "# Carrega os dados\n",
    "dados = np.loadtxt('dados.csv', delimiter=',')\n",
    "\n",
    "# Separa as features e a classe\n",
    "X = dados[:, :-1]\n",
    "y = dados[:, -1]"
   ]
  },
  {
   "cell_type": "code",
   "execution_count": 31,
   "id": "3f868ba3-fe76-4d7c-a447-e2d7208bd08f",
   "metadata": {
    "tags": []
   },
   "outputs": [],
   "source": [
    "# Divide o conjunto de dados em treinamento e teste\n",
    "X_train, X_test, y_train, y_test = train_test_split(X, y, test_size=0.2, random_state=42)\n",
    "\n",
    "# Normaliza os dados\n",
    "scaler = MinMaxScaler()\n",
    "X_train_norm = scaler.fit_transform(X_train)\n",
    "X_test_norm = scaler.transform(X_test)"
   ]
  },
  {
   "cell_type": "code",
   "execution_count": 33,
   "id": "81ccc200-2bec-4578-9839-4eb293c10908",
   "metadata": {
    "tags": []
   },
   "outputs": [
    {
     "name": "stdout",
     "output_type": "stream",
     "text": [
      "Epoch 1/10\n",
      "2500/2500 [==============================] - 10s 4ms/step - loss: 0.2142 - accuracy: 0.9087\n",
      "Epoch 2/10\n",
      "2500/2500 [==============================] - 11s 4ms/step - loss: 0.1214 - accuracy: 0.9520\n",
      "Epoch 3/10\n",
      "2500/2500 [==============================] - 9s 4ms/step - loss: 0.0896 - accuracy: 0.9659\n",
      "Epoch 4/10\n",
      "2500/2500 [==============================] - 10s 4ms/step - loss: 0.0695 - accuracy: 0.9732\n",
      "Epoch 5/10\n",
      "2500/2500 [==============================] - 8s 3ms/step - loss: 0.0566 - accuracy: 0.9780\n",
      "Epoch 6/10\n",
      "2500/2500 [==============================] - 10s 4ms/step - loss: 0.0452 - accuracy: 0.9833\n",
      "Epoch 7/10\n",
      "2500/2500 [==============================] - 10s 4ms/step - loss: 0.0372 - accuracy: 0.9865\n",
      "Epoch 8/10\n",
      "2500/2500 [==============================] - 6s 3ms/step - loss: 0.0324 - accuracy: 0.9882\n",
      "Epoch 9/10\n",
      "2500/2500 [==============================] - 5s 2ms/step - loss: 0.0289 - accuracy: 0.9898\n",
      "Epoch 10/10\n",
      "2500/2500 [==============================] - 7s 3ms/step - loss: 0.0265 - accuracy: 0.9904\n"
     ]
    },
    {
     "name": "stderr",
     "output_type": "stream",
     "text": [
      "2023/05/01 12:08:32 WARNING mlflow.tensorflow: You are saving a TensorFlow Core model or Keras model without a signature. Inference with mlflow.pyfunc.spark_udf() will not work unless the model's pyfunc representation accepts pandas DataFrames as inference inputs.\n",
      "2023-05-01 12:08:32.790606: I tensorflow/core/common_runtime/executor.cc:1197] [/device:CPU:0] (DEBUG INFO) Executor start aborting (this does not indicate an error and you can ignore this message): INVALID_ARGUMENT: You must feed a value for placeholder tensor 'inputs' with dtype float and shape [?,16]\n",
      "\t [[{{node inputs}}]]\n",
      "2023-05-01 12:08:32.806943: I tensorflow/core/common_runtime/executor.cc:1197] [/device:CPU:0] (DEBUG INFO) Executor start aborting (this does not indicate an error and you can ignore this message): INVALID_ARGUMENT: You must feed a value for placeholder tensor 'inputs' with dtype float and shape [?,8]\n",
      "\t [[{{node inputs}}]]\n",
      "2023-05-01 12:08:32.987571: I tensorflow/core/common_runtime/executor.cc:1197] [/device:CPU:0] (DEBUG INFO) Executor start aborting (this does not indicate an error and you can ignore this message): INVALID_ARGUMENT: You must feed a value for placeholder tensor 'inputs' with dtype float and shape [?,16]\n",
      "\t [[{{node inputs}}]]\n",
      "2023-05-01 12:08:33.038083: I tensorflow/core/common_runtime/executor.cc:1197] [/device:CPU:0] (DEBUG INFO) Executor start aborting (this does not indicate an error and you can ignore this message): INVALID_ARGUMENT: You must feed a value for placeholder tensor 'inputs' with dtype float and shape [?,8]\n",
      "\t [[{{node inputs}}]]\n",
      "WARNING:absl:Found untraced functions such as _update_step_xla while saving (showing 1 of 1). These functions will not be directly callable after loading.\n"
     ]
    },
    {
     "name": "stdout",
     "output_type": "stream",
     "text": [
      "INFO:tensorflow:Assets written to: /tmp/tmpfa89efch/model/data/model/assets\n"
     ]
    },
    {
     "name": "stderr",
     "output_type": "stream",
     "text": [
      "INFO:tensorflow:Assets written to: /tmp/tmpfa89efch/model/data/model/assets\n"
     ]
    },
    {
     "name": "stdout",
     "output_type": "stream",
     "text": [
      "2500/2500 [==============================] - 4s 1ms/step\n",
      "625/625 [==============================] - 1s 1ms/step\n"
     ]
    }
   ],
   "source": [
    "# Cria e treina a rede neural\n",
    "input_shape = (X_train_norm.shape[1],)\n",
    "nn = NeuralNetwork(input_shape=input_shape)\n",
    "nn.train(X_train_norm, y_train)\n",
    "\n",
    "# Testa a rede neural\n",
    "y_pred = nn.predict(X_test_norm)"
   ]
  },
  {
   "cell_type": "code",
   "execution_count": 38,
   "id": "1cfefd6f-126a-410d-96ad-8183676e4d8f",
   "metadata": {
    "tags": []
   },
   "outputs": [
    {
     "data": {
      "text/plain": [
       "{0: 2525, 1: 17475}"
      ]
     },
     "execution_count": 38,
     "metadata": {},
     "output_type": "execute_result"
    }
   ],
   "source": [
    "\n",
    "unique, counts = np.unique(y_pred, return_counts=True)\n",
    "dict(zip(unique, counts))"
   ]
  },
  {
   "cell_type": "code",
   "execution_count": 41,
   "id": "e15d3f01-101f-440b-bdce-b57fb2148c52",
   "metadata": {
    "tags": []
   },
   "outputs": [
    {
     "name": "stdout",
     "output_type": "stream",
     "text": [
      "Acurácia: 1.00\n"
     ]
    }
   ],
   "source": [
    "import pandas as pd\n",
    "from sklearn.model_selection import train_test_split\n",
    "from sklearn.preprocessing import StandardScaler\n",
    "from sklearn.neural_network import MLPClassifier\n",
    "\n",
    "# carregar dados\n",
    "data = pd.read_csv('dados.csv')\n",
    "\n",
    "# separar dados de entrada (X) e saída (y)\n",
    "X = data.drop('downgrade', axis=1)\n",
    "y = data['downgrade']\n",
    "\n",
    "# dividir dados em conjuntos de treinamento e teste\n",
    "X_train, X_test, y_train, y_test = train_test_split(X, y, test_size=0.2, random_state=42)\n",
    "\n",
    "# escalonar os dados de entrada\n",
    "scaler = StandardScaler()\n",
    "X_train = scaler.fit_transform(X_train)\n",
    "X_test = scaler.transform(X_test)\n",
    "\n",
    "# criar o modelo MLP\n",
    "mlp = MLPClassifier(hidden_layer_sizes=(50, 30, 10), max_iter=1000)\n",
    "\n",
    "# treinar o modelo usando os dados de treinamento\n",
    "mlp.fit(X_train, y_train)\n",
    "\n",
    "# avaliar o modelo usando os dados de teste\n",
    "accuracy = mlp.score(X_test, y_test)\n",
    "print(f'Acurácia: {accuracy:.2f}')\n"
   ]
  },
  {
   "cell_type": "code",
   "execution_count": 42,
   "id": "388c262a-3f9a-445e-916d-b8a4b132f1ee",
   "metadata": {
    "tags": []
   },
   "outputs": [
    {
     "data": {
      "text/plain": [
       "array([1, 1, 1, ..., 1, 1, 1])"
      ]
     },
     "execution_count": 42,
     "metadata": {},
     "output_type": "execute_result"
    }
   ],
   "source": [
    "mlp.predict(X_test)"
   ]
  },
  {
   "cell_type": "code",
   "execution_count": null,
   "id": "d86e0513-0075-4673-94a9-368e3b906054",
   "metadata": {},
   "outputs": [],
   "source": []
  },
  {
   "cell_type": "code",
   "execution_count": null,
   "id": "87d87b66-d259-4017-b47b-74266729a620",
   "metadata": {},
   "outputs": [],
   "source": []
  },
  {
   "cell_type": "code",
   "execution_count": null,
   "id": "65205e55-2ade-4815-bf00-aa9de04e4cab",
   "metadata": {},
   "outputs": [],
   "source": []
  },
  {
   "cell_type": "code",
   "execution_count": null,
   "id": "027818a6-aa49-4412-b10d-cd26679c8bd4",
   "metadata": {},
   "outputs": [],
   "source": []
  },
  {
   "cell_type": "code",
   "execution_count": null,
   "id": "c165cf05-4c0b-421f-8464-89616ee1ac67",
   "metadata": {},
   "outputs": [],
   "source": []
  },
  {
   "cell_type": "code",
   "execution_count": null,
   "id": "8504e93a-db03-4e3e-8280-0a1151156a20",
   "metadata": {},
   "outputs": [],
   "source": []
  },
  {
   "cell_type": "code",
   "execution_count": null,
   "id": "114bc30a-d73f-4e74-b51c-1356586f5d5e",
   "metadata": {},
   "outputs": [],
   "source": []
  },
  {
   "cell_type": "code",
   "execution_count": null,
   "id": "799e6c01-8a00-4933-ab92-0ef01a2f03f6",
   "metadata": {},
   "outputs": [],
   "source": []
  },
  {
   "cell_type": "code",
   "execution_count": null,
   "id": "70f166ca-9d12-4e9d-b29b-77d8d09f4c67",
   "metadata": {},
   "outputs": [],
   "source": []
  },
  {
   "cell_type": "code",
   "execution_count": null,
   "id": "732ea5ff-98e5-4589-95d0-524c6665dc96",
   "metadata": {},
   "outputs": [],
   "source": []
  }
 ],
 "metadata": {
  "kernelspec": {
   "display_name": "Python 3 (ipykernel)",
   "language": "python",
   "name": "python3"
  },
  "language_info": {
   "codemirror_mode": {
    "name": "ipython",
    "version": 3
   },
   "file_extension": ".py",
   "mimetype": "text/x-python",
   "name": "python",
   "nbconvert_exporter": "python",
   "pygments_lexer": "ipython3",
   "version": "3.10.6"
  }
 },
 "nbformat": 4,
 "nbformat_minor": 5
}
